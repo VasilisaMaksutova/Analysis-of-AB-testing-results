{
 "cells": [
  {
   "attachments": {},
   "cell_type": "markdown",
   "metadata": {},
   "source": [
    "### **Задача:** \n",
    "#### Главная страница Яндекса. Поменяли местами иконки \"Маркет\" и \"Карты\" над строкой поиска. Необходимо проверить повлияло ли изменение, и стали ли пользователи чаще кликать на иконку \"Маркета\" по возвращению на сайт. Проверить гипотезу о кликабельности иконки с помощью метрики CTR (click-through-rate)"
   ]
  },
  {
   "attachments": {},
   "cell_type": "markdown",
   "metadata": {},
   "source": [
    "#### Визуальное представление: "
   ]
  },
  {
   "attachments": {},
   "cell_type": "markdown",
   "metadata": {},
   "source": [
    "![title](https://glebk.notion.site/image/https%3A%2F%2Fs3-us-west-2.amazonaws.com%2Fsecure.notion-static.com%2F508924bd-55f1-4939-b522-b55c9c62b4c6%2F__2020-11-07__21.04.41.png?id=76e2e9fe-dd64-486c-9f63-00b2b2b2c96f&table=block&spaceId=35722ed8-6c4b-425b-98b1-d0f66af3980b&width=2000&userId=&cache=v2)"
   ]
  },
  {
   "attachments": {},
   "cell_type": "markdown",
   "metadata": {},
   "source": [
    "##### Формула кликабельности иконки маркета:   ${CTR} = \\frac{\\sum_{c_i \\in C} Clicks} {\\sum_{s_i \\in S} Sessions}$\n"
   ]
  },
  {
   "attachments": {},
   "cell_type": "markdown",
   "metadata": {},
   "source": [
    "### Описание колонок\n",
    "\n",
    "- `user_id` – идентификатор пользователя\n",
    "- `session_id` – идентификатор сессии\n",
    "- `click_id` – идентификатор клика\n",
    "- `experimentVariant` – вариант эксперимента"
   ]
  },
  {
   "attachments": {},
   "cell_type": "markdown",
   "metadata": {},
   "source": [
    "### **Решение:**"
   ]
  },
  {
   "cell_type": "code",
   "execution_count": 19,
   "metadata": {},
   "outputs": [],
   "source": [
    "import pandas as pd\n",
    "import numpy as np\n",
    "import matplotlib.pyplot as plt\n",
    "import scipy"
   ]
  },
  {
   "cell_type": "code",
   "execution_count": 3,
   "metadata": {},
   "outputs": [
    {
     "name": "stdout",
     "output_type": "stream",
     "text": [
      "<class 'pandas.core.frame.DataFrame'>\n",
      "Int64Index: 10000 entries, 1 to 10000\n",
      "Data columns (total 4 columns):\n",
      " #   Column             Non-Null Count  Dtype \n",
      "---  ------             --------------  ----- \n",
      " 0   user_id            10000 non-null  object\n",
      " 1   session_id         10000 non-null  object\n",
      " 2   click_id           7655 non-null   object\n",
      " 3   experimentVariant  10000 non-null  int64 \n",
      "dtypes: int64(1), object(3)\n",
      "memory usage: 390.6+ KB\n"
     ]
    }
   ],
   "source": [
    "# Загрузка данных и общая информация о них\n",
    "\n",
    "df = pd.read_csv('case_ctr.csv', sep = ';', index_col=0)\n",
    "df.info()"
   ]
  },
  {
   "attachments": {},
   "cell_type": "markdown",
   "metadata": {},
   "source": [
    "##### Разделим пользователей на 2 группы, где А - контрольная выборка, В - тестовая выборка. Видно, что пользователи в группах не пересекаются."
   ]
  },
  {
   "cell_type": "code",
   "execution_count": 11,
   "metadata": {},
   "outputs": [
    {
     "name": "stdout",
     "output_type": "stream",
     "text": [
      "Пользователей в группе А: 5112 \n",
      "Пользователей в группе B: 4888\n"
     ]
    }
   ],
   "source": [
    "group_A = df[df['experimentVariant'] == 0]\n",
    "group_B = df[df['experimentVariant'] == 1]\n",
    "\n",
    "print('Пользователей в группе А:',len(group_A), '\\nПользователей в группе B:',len(group_B))"
   ]
  },
  {
   "attachments": {},
   "cell_type": "markdown",
   "metadata": {},
   "source": [
    "##### Сгруппируем данные о действиях пользователей по `user_id` для дальнейшего расчета метрики CTR"
   ]
  },
  {
   "cell_type": "code",
   "execution_count": 13,
   "metadata": {},
   "outputs": [
    {
     "data": {
      "text/html": [
       "<div>\n",
       "<style scoped>\n",
       "    .dataframe tbody tr th:only-of-type {\n",
       "        vertical-align: middle;\n",
       "    }\n",
       "\n",
       "    .dataframe tbody tr th {\n",
       "        vertical-align: top;\n",
       "    }\n",
       "\n",
       "    .dataframe thead th {\n",
       "        text-align: right;\n",
       "    }\n",
       "</style>\n",
       "<table border=\"1\" class=\"dataframe\">\n",
       "  <thead>\n",
       "    <tr style=\"text-align: right;\">\n",
       "      <th></th>\n",
       "      <th>clicks_count</th>\n",
       "      <th>sessions_count</th>\n",
       "    </tr>\n",
       "    <tr>\n",
       "      <th>user_id</th>\n",
       "      <th></th>\n",
       "      <th></th>\n",
       "    </tr>\n",
       "  </thead>\n",
       "  <tbody>\n",
       "    <tr>\n",
       "      <th>002919af9552c77035b1da1a23988191</th>\n",
       "      <td>6</td>\n",
       "      <td>7</td>\n",
       "    </tr>\n",
       "    <tr>\n",
       "      <th>0036ea1469ecd0808170f942533513a2</th>\n",
       "      <td>3</td>\n",
       "      <td>5</td>\n",
       "    </tr>\n",
       "    <tr>\n",
       "      <th>00b31c2f7dfc7b377abe7e1bd2ac060e</th>\n",
       "      <td>2</td>\n",
       "      <td>2</td>\n",
       "    </tr>\n",
       "    <tr>\n",
       "      <th>01308b1cb36f52772b2ca6aa2fedd2e3</th>\n",
       "      <td>3</td>\n",
       "      <td>3</td>\n",
       "    </tr>\n",
       "    <tr>\n",
       "      <th>014a6b3970d823d330a583d674e18f9c</th>\n",
       "      <td>3</td>\n",
       "      <td>5</td>\n",
       "    </tr>\n",
       "    <tr>\n",
       "      <th>...</th>\n",
       "      <td>...</td>\n",
       "      <td>...</td>\n",
       "    </tr>\n",
       "    <tr>\n",
       "      <th>ff4536ae8f68e2fe7733ae78a9758918</th>\n",
       "      <td>4</td>\n",
       "      <td>6</td>\n",
       "    </tr>\n",
       "    <tr>\n",
       "      <th>ff6fbf9aeda1c7dbb702e1c07888f0c0</th>\n",
       "      <td>3</td>\n",
       "      <td>3</td>\n",
       "    </tr>\n",
       "    <tr>\n",
       "      <th>ff7c33f3635554df1593d383f8b8456d</th>\n",
       "      <td>8</td>\n",
       "      <td>12</td>\n",
       "    </tr>\n",
       "    <tr>\n",
       "      <th>ff92aedf4323446897d64750958f6000</th>\n",
       "      <td>7</td>\n",
       "      <td>9</td>\n",
       "    </tr>\n",
       "    <tr>\n",
       "      <th>ffc667c303f9c14ac34f6e542b3a0373</th>\n",
       "      <td>2</td>\n",
       "      <td>2</td>\n",
       "    </tr>\n",
       "  </tbody>\n",
       "</table>\n",
       "<p>1129 rows × 2 columns</p>\n",
       "</div>"
      ],
      "text/plain": [
       "                                  clicks_count  sessions_count\n",
       "user_id                                                       \n",
       "002919af9552c77035b1da1a23988191             6               7\n",
       "0036ea1469ecd0808170f942533513a2             3               5\n",
       "00b31c2f7dfc7b377abe7e1bd2ac060e             2               2\n",
       "01308b1cb36f52772b2ca6aa2fedd2e3             3               3\n",
       "014a6b3970d823d330a583d674e18f9c             3               5\n",
       "...                                        ...             ...\n",
       "ff4536ae8f68e2fe7733ae78a9758918             4               6\n",
       "ff6fbf9aeda1c7dbb702e1c07888f0c0             3               3\n",
       "ff7c33f3635554df1593d383f8b8456d             8              12\n",
       "ff92aedf4323446897d64750958f6000             7               9\n",
       "ffc667c303f9c14ac34f6e542b3a0373             2               2\n",
       "\n",
       "[1129 rows x 2 columns]"
      ]
     },
     "execution_count": 13,
     "metadata": {},
     "output_type": "execute_result"
    }
   ],
   "source": [
    "groupby_A = group_A.groupby(['user_id']).agg(clicks_count = pd.NamedAgg(column=\"click_id\", aggfunc=\"count\"), \n",
    "                                             sessions_count = pd.NamedAgg(column=\"session_id\", aggfunc=\"count\"))\n",
    "                                            # count не учитывает NaN\n",
    "groupby_B = group_B.groupby(['user_id']).agg(clicks_count = pd.NamedAgg(column=\"click_id\", aggfunc=\"count\"),\n",
    "                                             sessions_count = pd.NamedAgg(column=\"session_id\", aggfunc=\"count\"))    \n",
    "groupby_A                                                                                                                          "
   ]
  },
  {
   "attachments": {},
   "cell_type": "markdown",
   "metadata": {},
   "source": [
    "#### Посмотрим, как распределилось количество сессий и кликов по группам."
   ]
  },
  {
   "cell_type": "code",
   "execution_count": 12,
   "metadata": {},
   "outputs": [
    {
     "data": {
      "image/png": "[encoded data removed]",
      "text/plain": [
       "<Figure size 720x432 with 1 Axes>"
      ]
     },
     "metadata": {
      "needs_background": "light"
     },
     "output_type": "display_data"
    }
   ],
   "source": [
    "labels = ['A', 'B']\n",
    "sessions = [groupby_A.sessions_count.sum(), groupby_B.sessions_count.sum()]\n",
    "clicks = [groupby_A.clicks_count.sum(), groupby_B.clicks_count.sum()]\n",
    "\n",
    "x = np.arange(len(labels))  # the label locations\n",
    "width = 0.35  # the width of the bars\n",
    "\n",
    "fig, ax = plt.subplots(figsize = [10,6])\n",
    "\n",
    "rects1 = ax.bar(x - width/2, sessions, width, label='Sessions',color = ['tab:orange'])\n",
    "rects2 = ax.bar(x + width/2, clicks, width, label='Clicks', color = ['tab:red'])\n",
    "\n",
    "ax.set_ylabel('Количество')\n",
    "ax.set_title('Количество по группам')\n",
    "ax.set_xticks(x, labels)\n",
    "ax.legend()\n",
    "\n",
    "ax.bar_label(rects1, padding=3)\n",
    "ax.bar_label(rects2, padding=3)\n",
    "\n",
    "plt.show()"
   ]
  },
  {
   "attachments": {},
   "cell_type": "markdown",
   "metadata": {},
   "source": [
    "_Существенной разницы не видно._"
   ]
  },
  {
   "attachments": {},
   "cell_type": "markdown",
   "metadata": {},
   "source": [
    "#### Рассчитаем метрику CTR для обеих групп."
   ]
  },
  {
   "cell_type": "code",
   "execution_count": 7,
   "metadata": {},
   "outputs": [
    {
     "name": "stdout",
     "output_type": "stream",
     "text": [
      "0.773   0.758\n",
      "difference: -0.015\n"
     ]
    }
   ],
   "source": [
    "CTR_A = groupby_A.clicks_count.sum()/groupby_A.sessions_count.sum()\n",
    "CTR_B = groupby_B.clicks_count.sum()/ groupby_B.sessions_count.sum()\n",
    "print(round(CTR_A,3), ' ', round(CTR_B,3))\n",
    "print('difference:', round(CTR_B - CTR_A,3))"
   ]
  },
  {
   "attachments": {},
   "cell_type": "markdown",
   "metadata": {},
   "source": [
    "#### В группе А:   $CTR = 0.773$\n",
    "#### В группе В:   $CTR = 0.758$\n",
    "####              $\\Delta = -0.015$"
   ]
  },
  {
   "attachments": {},
   "cell_type": "markdown",
   "metadata": {},
   "source": [
    "##### По результатам расчета метрики CTR, можно предположить, что изменение мест иконок «Маркет» и «Карты», в итоге, отрицательно влияет на частоту кликов по иконке «Маркет».\n",
    "##### Проверим **гипотезу** о том, что положение иконки «Маркет» в эксперименте значимо не влияет на количество кликов по ней."
   ]
  },
  {
   "attachments": {},
   "cell_type": "markdown",
   "metadata": {},
   "source": [
    "_Направленность изменения глобального CTR такая же, как направленность изменения суммы кликов, если мы не влияем на просмотры в нашем эксперименте.  Это разумное предположение, так как мы работаем с таргетингом на иконку на главной странице.  Крайне маловероятно, что, изменив положение иконок, мы изменим среднее количество просмотров их пользователем, так как оно зависит от количества посещений главной страницы.\n",
    " Именно поэтому для проверки гипотезы я буду рассматривать распределение кликов. Так как данные являются качественными (был клик/ нет), предполагая, что выборки независимы, я буду использовать критерий хи-квадрат Пирсона._"
   ]
  },
  {
   "cell_type": "code",
   "execution_count": 14,
   "metadata": {},
   "outputs": [
    {
     "data": {
      "text/html": [
       "<div>\n",
       "<style scoped>\n",
       "    .dataframe tbody tr th:only-of-type {\n",
       "        vertical-align: middle;\n",
       "    }\n",
       "\n",
       "    .dataframe tbody tr th {\n",
       "        vertical-align: top;\n",
       "    }\n",
       "\n",
       "    .dataframe thead th {\n",
       "        text-align: right;\n",
       "    }\n",
       "</style>\n",
       "<table border=\"1\" class=\"dataframe\">\n",
       "  <thead>\n",
       "    <tr style=\"text-align: right;\">\n",
       "      <th></th>\n",
       "      <th>был клик</th>\n",
       "      <th>не было</th>\n",
       "    </tr>\n",
       "  </thead>\n",
       "  <tbody>\n",
       "    <tr>\n",
       "      <th>A</th>\n",
       "      <td>3951</td>\n",
       "      <td>1161</td>\n",
       "    </tr>\n",
       "    <tr>\n",
       "      <th>B</th>\n",
       "      <td>3704</td>\n",
       "      <td>1184</td>\n",
       "    </tr>\n",
       "  </tbody>\n",
       "</table>\n",
       "</div>"
      ],
      "text/plain": [
       "   был клик  не было\n",
       "A      3951     1161\n",
       "B      3704     1184"
      ]
     },
     "execution_count": 14,
     "metadata": {},
     "output_type": "execute_result"
    }
   ],
   "source": [
    "ac = groupby_A.clicks_count.sum()\n",
    "an = groupby_A.sessions_count.sum() - groupby_A.clicks_count.sum()\n",
    "bc = groupby_B.clicks_count.sum()\n",
    "bn = groupby_B.sessions_count.sum() - groupby_B.clicks_count.sum()\n",
    "\n",
    "signs = pd.DataFrame({'был клик':[ac,bc],'не было':[an,bn]},index = ['A','B'])\n",
    "signs"
   ]
  },
  {
   "attachments": {},
   "cell_type": "markdown",
   "metadata": {},
   "source": [
    "$\\uparrow$ _Так выглядят суммарные данные о сочетании двух признаков: наличия клика и принадлежности к тестовой/ контрольной группе._"
   ]
  },
  {
   "attachments": {},
   "cell_type": "markdown",
   "metadata": {},
   "source": [
    "_Проверим на уровне значимости_ $p = 0,05$ _гипотезу_ $H_0$: _наличие клика у пользователя не зависит от его принадлежности к тестовой/ контрольной группе._"
   ]
  },
  {
   "attachments": {},
   "cell_type": "markdown",
   "metadata": {},
   "source": [
    "_С признаком наличия клика свяжем случайную величину_ $X$ _следующим образом:_ $\\lbrace X = 1 \\rbrace$ _— клик был,_ $\\lbrace X = 0 \\rbrace$ _— не было клика. Аналогично,_ $\\lbrace Y = 1 \\rbrace$ —_пользователь из группы В,_ $\\lbrace Y = 0 \\rbrace$ _— пользователь из группы А. Таким образом, проверка независимости признаков эквивалентна проверки независимости СВ $X$ и $Y$._"
   ]
  },
  {
   "attachments": {},
   "cell_type": "markdown",
   "metadata": {},
   "source": [
    "_В нашем эксперименте $X$ и $Y$ принимают только два значения, поэтому реализацию $\\hat{g}_n$ статистики хи-квадрат $\\hat{G}_n$ можно вычислить по формуле:_ $\\hat{g}_n = \\frac{n(n_11n_22 - n_12n_21)^2}{N_1N_2M_1M_2}$"
   ]
  },
  {
   "cell_type": "code",
   "execution_count": 17,
   "metadata": {},
   "outputs": [],
   "source": [
    "# Функция для вычисления статистики критерия\n",
    "def chi2_statistic(signs):\n",
    "    n11 = signs.iloc[0,0]\n",
    "    n21 = signs.iloc[1,0]\n",
    "    n12 = signs.iloc[0,1]\n",
    "    n22 = signs.iloc[1,1]\n",
    "    n = n11+n12+n21+n22\n",
    "    N1 = n11+n12\n",
    "    N2 = n21+n22\n",
    "    M1 = n11+n21\n",
    "    M2 = n12+n22\n",
    "    g = (n*(n11*n22-n12*n21)**2)/(N1*N2*M1*M2)\n",
    "    return g"
   ]
  },
  {
   "cell_type": "code",
   "execution_count": 18,
   "metadata": {},
   "outputs": [
    {
     "name": "stdout",
     "output_type": "stream",
     "text": [
      "В нашем случае статистика критерия примет значение:  3.179405297023079\n"
     ]
    }
   ],
   "source": [
    "print('В нашем случае статистика критерия примет значение: ',chi2_statistic(signs))"
   ]
  },
  {
   "attachments": {},
   "cell_type": "markdown",
   "metadata": {},
   "source": [
    "Для $\\alpha = 0,95$ критическая область $\\Delta_p = (k_\\alpha (1), +\\infty) = (3,84, +\\infty)$. Так как $\\hat{g}_n \\not\\in \\Delta_p$, гипотеза $H_0$ не отвергается."
   ]
  },
  {
   "attachments": {},
   "cell_type": "markdown",
   "metadata": {},
   "source": [
    "Также можно было воспользоваться функцией `chi2_contingency` из библиотеки scipy. Она покажет такой же результат:"
   ]
  },
  {
   "cell_type": "code",
   "execution_count": 27,
   "metadata": {},
   "outputs": [
    {
     "name": "stdout",
     "output_type": "stream",
     "text": [
      "Статистика =  3.179405297023071 \n",
      " p-value =  0.07457186628132746\n"
     ]
    }
   ],
   "source": [
    "print('Статистика = ',scipy.stats.chi2_contingency([[ac,an],[bc,bn]], correction = False)[0],'\\n p-value = ',scipy.stats.chi2_contingency([[ac,an],[bc,bn]], correction = False)[1])"
   ]
  },
  {
   "attachments": {},
   "cell_type": "markdown",
   "metadata": {},
   "source": [
    "#### **Из полученных результатов можно сделать вывод о том, что тест не изменил значимо метрику CTR. Изменение положения иконки не повлияло на количество кликов по ней.**"
   ]
  },
  {
   "attachments": {},
   "cell_type": "markdown",
   "metadata": {},
   "source": [
    "##### **Рекомендации:**"
   ]
  },
  {
   "attachments": {},
   "cell_type": "markdown",
   "metadata": {},
   "source": [
    "- Улучшить разделение пользователей на тест и контроль так, чтобы выборки были по-прежнему сбалансированы, а дисперсия разницы теста с контролем стала бы сама по себе меньше\n",
    "\n",
    "_К примеру, можно применить стратификацию данных._\n",
    "\n",
    "- Увеличить время проведения эксперимента\n",
    "\n",
    "_В основном, чем дольше проходит эксперимент, тем вероятнее получить статистически значимые результаты, потому что в эксперименте поучаствует больше людей. Чем больше людей, тем меньше дисперсия у средних величин, а значит, меньше доверительный интервал. Это увеличивает вероятность задетектировать эффект.\n",
    "Но чем больше вы держите тест, тем меньше гипотез протестируете за определённый промежуток времени._"
   ]
  }
 ],
 "metadata": {
  "kernelspec": {
   "display_name": "Python 3",
   "language": "python",
   "name": "python3"
  },
  "language_info": {
   "codemirror_mode": {
    "name": "ipython",
    "version": 3
   },
   "file_extension": ".py",
   "mimetype": "text/x-python",
   "name": "python",
   "nbconvert_exporter": "python",
   "pygments_lexer": "ipython3",
   "version": "3.9.0"
  },
  "orig_nbformat": 4,
  "vscode": {
   "interpreter": {
    "hash": "ff8c0d831c567c94c13226f7cd39e7bab81bf2637427e68ed5dc195ef64ed873"
   }
  }
 },
 "nbformat": 4,
 "nbformat_minor": 2
}
